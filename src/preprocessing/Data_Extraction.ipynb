{
  "nbformat": 4,
  "nbformat_minor": 0,
  "metadata": {
    "colab": {
      "provenance": []
    },
    "kernelspec": {
      "name": "python3",
      "display_name": "Python 3"
    },
    "language_info": {
      "name": "python"
    }
  },
  "cells": [
    {
      "cell_type": "markdown",
      "source": [
        "# Data Extraction"
      ],
      "metadata": {
        "id": "v9BpqLIfWNMB"
      }
    },
    {
      "cell_type": "markdown",
      "source": [
        "The main purpose of this module is to retrieve, transform, clean, and load data from medical CSV files, which will serve as the initial dataset for our healthcare support system."
      ],
      "metadata": {
        "id": "Wv8D1Kf4maEt"
      }
    },
    {
      "cell_type": "code",
      "execution_count": 1,
      "metadata": {
        "colab": {
          "base_uri": "https://localhost:8080/"
        },
        "id": "M58jU1sZ-i-v",
        "outputId": "844ab4b1-9da9-4fa0-ff18-09ac4f53e955"
      },
      "outputs": [
        {
          "output_type": "stream",
          "name": "stdout",
          "text": [
            "Mounted at /content/drive\n"
          ]
        }
      ],
      "source": [
        "from google.colab import drive\n",
        "drive.mount('/content/drive')"
      ]
    },
    {
      "cell_type": "code",
      "source": [
        "import json\n",
        "\n",
        "# Json file Path, saved on google drive of the collaboratos\n",
        "json_path = '/content/drive/MyDrive/Colab Notebooks/Big Data/Final_Project/secret.json'\n",
        "\n",
        "# Loading the json file\n",
        "with open(json_path) as f:\n",
        "  secrets = json.load(f)\n",
        "\n",
        "# Secret info from json\n",
        "#mongo_uri = secrets[\"MONGO_BASE_URI\"]\n",
        "mongo_uri = secrets[\"MONGO_M10_URI\"]\n",
        "collection_string_list = secrets[\"COLLECTION_STRING_LIST\"]"
      ],
      "metadata": {
        "id": "9_54tMB5AZRJ"
      },
      "execution_count": 2,
      "outputs": []
    },
    {
      "cell_type": "code",
      "source": [
        "import os\n",
        "import pandas as pd\n",
        "dataset_path = '/content/drive/MyDrive/Colab Notebooks/Big Data/Final_Project/Dataset/'"
      ],
      "metadata": {
        "id": "ucT9fwYpC44s"
      },
      "execution_count": 3,
      "outputs": []
    },
    {
      "cell_type": "markdown",
      "source": [
        "## Data Retrieve\n"
      ],
      "metadata": {
        "id": "7qJsCu2IlXtL"
      }
    },
    {
      "cell_type": "markdown",
      "source": [
        "For the first thing we have to retrieve from csv files all data as our database. We will clean the data, but to do this we need a framework that scales on horizontal cluster. Let's use spark!"
      ],
      "metadata": {
        "id": "gklBHOPHldzX"
      }
    },
    {
      "cell_type": "code",
      "source": [
        "#Install Java8\n",
        "!apt-get install openjdk-8-jdk-headless -qq > /dev/null\n",
        "\n",
        "# download spark3.4.4 (list of mirrors)\n",
        "#!wget -q https://apache.osuosl.org/spark/spark-3.4.4/spark-3.4.4-bin-hadoop3.tgz\n",
        "#!wget -q https://dlcdn.apache.org/spark/spark-3.4.4/spark-3.4.4-bin-hadoop3.tgz\n",
        "!wget -q https://archive.apache.org/dist/spark/spark-3.4.4/spark-3.4.4-bin-hadoop3.tgz\n",
        "\n",
        "# unzip it\n",
        "!tar xf spark-3.4.4-bin-hadoop3.tgz\n",
        "\n",
        "# install findspark\n",
        "!pip install -q findspark\n",
        "\n",
        "# Scarica il connettore MongoDB-Spark\n",
        "!wget -q https://repo1.maven.org/maven2/org/mongodb/spark/mongo-spark-connector_2.12/10.4.1/mongo-spark-connector_2.12-10.4.1.jar\n",
        "!wget -q https://repo1.maven.org/maven2/org/mongodb/mongodb-driver-sync/4.10.2/mongodb-driver-sync-4.10.2.jar\n",
        "!wget -q https://repo1.maven.org/maven2/org/mongodb/bson/4.10.2/bson-4.10.2.jar\n",
        "!wget -q https://repo1.maven.org/maven2/org/mongodb/mongodb-driver-core/4.10.2/mongodb-driver-core-4.10.2.jar\n",
        "\n"
      ],
      "metadata": {
        "id": "ul-pIWVCohYx"
      },
      "execution_count": 4,
      "outputs": []
    },
    {
      "cell_type": "markdown",
      "source": [
        "In the second part of this notebook, we will load all the cleaned data to a MongoDB server using a MongoDB Atlas connection URI. To do this directly with PySpark, we need to use a dedicated connector. The following cells will contain its configuration."
      ],
      "metadata": {
        "id": "bDq87POpycvK"
      }
    },
    {
      "cell_type": "code",
      "source": [
        "import os\n",
        "\n",
        "# Enviroment variable\n",
        "os.environ[\"JAVA_HOME\"] = \"/usr/lib/jvm/java-8-openjdk-amd64\"\n",
        "os.environ[\"SPARK_HOME\"] = \"/content/spark-3.4.4-bin-hadoop3\"\n",
        "os.environ['PYSPARK_SUBMIT_ARGS'] = (\n",
        "    '--jars /content/mongo-spark-connector_2.12-10.4.1.jar,'\n",
        "    '/content/mongodb-driver-sync-4.10.2.jar,'\n",
        "    '/content/bson-4.10.2.jar,'\n",
        "    '/content/mongodb-driver-core-4.10.2.jar pyspark-shell'\n",
        ")"
      ],
      "metadata": {
        "id": "hDfr00GVoohp"
      },
      "execution_count": 5,
      "outputs": []
    },
    {
      "cell_type": "code",
      "source": [
        "import findspark\n",
        "findspark.init()"
      ],
      "metadata": {
        "id": "Hs1JQTKbou1F"
      },
      "execution_count": 6,
      "outputs": []
    },
    {
      "cell_type": "code",
      "source": [
        "# Libraries for SQL Spark\n",
        "from pyspark.sql import SparkSession\n",
        "from pyspark.sql import functions\n",
        "from pyspark.sql.functions import split, explode, trim, count, sum, col, current_date, lower, regexp_replace\n",
        "import time\n",
        "\n",
        "# Spark Session configuration\n",
        "spark = SparkSession.builder \\\n",
        "    .appName(\"MongoDBAtlasConnection\") \\\n",
        "    .config(\"spark.mongodb.read.connection.uri\", mongo_uri) \\\n",
        "    .config(\"spark.mongodb.write.connection.uri\", mongo_uri) \\\n",
        "    .config(\"spark.jars\", \"/content/mongo-spark-connector_2.12-10.4.1.jar\") \\\n",
        "    .getOrCreate()\n",
        "print(spark)"
      ],
      "metadata": {
        "colab": {
          "base_uri": "https://localhost:8080/"
        },
        "id": "l9l7YAupqE3N",
        "outputId": "d77c68b8-778f-470f-815a-98629c68c805"
      },
      "execution_count": 7,
      "outputs": [
        {
          "output_type": "stream",
          "name": "stdout",
          "text": [
            "<pyspark.sql.session.SparkSession object at 0x7f23af664050>\n"
          ]
        }
      ]
    },
    {
      "cell_type": "code",
      "source": [
        "# Check if the connector works\n",
        "print(spark.sparkContext.getConf().get(\"spark.jars\"))"
      ],
      "metadata": {
        "colab": {
          "base_uri": "https://localhost:8080/"
        },
        "id": "bGwmBC0Pz-a4",
        "outputId": "807d24f5-d854-488e-e6b3-40c5a046d799"
      },
      "execution_count": 8,
      "outputs": [
        {
          "output_type": "stream",
          "name": "stdout",
          "text": [
            "/content/mongo-spark-connector_2.12-10.4.1.jar\n"
          ]
        }
      ]
    },
    {
      "cell_type": "code",
      "source": [
        "# Trying to Connect to mongoAtlas\n",
        "try:\n",
        "    df = spark.read \\\n",
        "        .format(\"mongodb\") \\\n",
        "        .option(\"database\", \"CAMPANIA_SALUTE\") \\\n",
        "        .option(\"collection\", \"ANAGRAFICA\") \\\n",
        "        .load()\n",
        "    print(\"Connessione riuscita! Ecco i primi 5 documenti:\")\n",
        "    df.show(5)\n",
        "except Exception as e:\n",
        "    print(\"Errore di connessione:\", str(e))"
      ],
      "metadata": {
        "colab": {
          "base_uri": "https://localhost:8080/"
        },
        "id": "YKSuYxh76l69",
        "outputId": "a2a85709-7d39-48ef-949c-d57215391e78"
      },
      "execution_count": 9,
      "outputs": [
        {
          "output_type": "stream",
          "name": "stdout",
          "text": [
            "Connessione riuscita! Ecco i primi 5 documenti:\n",
            "+------------------------+----------------+------+------------+-----------------+-------------------+-------------------+----------------+------+--------------------+---------+-----+-------+--------------------+\n",
            "|CODICE_COMUNE_DI_NASCITA|  CODICE_FISCALE|CODPAZ|     COGNOME|COMUNE_DI_NASCITA|      DATADINASCITA|       DATA_DECESSO|GATE_DI_INGRESSO|ID_PAZ|      MOTIVO_DECESSO|  NOMEPAZ|SESSO|SEZIONE|                 _id|\n",
            "+------------------------+----------------+------+------------+-----------------+-------------------+-------------------+----------------+------+--------------------+---------+-----+-------+--------------------+\n",
            "|                    null|---NLL37B56-----|     1|           A|             null|1937-02-16 00:00:00|               null|         Esterno|   1_1|                null|    NELLO|    F|      1|6837054b383892705...|\n",
            "|                    A024|NVSMDL37A58A024E|     7|       NAVAS|           ACERRA|1937-01-18 00:00:00|2019-07-02 00:00:00|    Ipertensione|   1_7|Causa extracardio...|MADDALENA|    F|      1|6837054b383892705...|\n",
            "|                    null|DLSRFL32R24-----|    17|D`ALESSANDRO|             null|1932-10-24 00:00:00|               null|    Ipertensione|  1_17|                null| RAFFAELE|    M|      1|6837054b383892705...|\n",
            "|                    F839|GLNGNR56D21F839J|    18|      GALANO|           NAPOLI|1956-04-21 00:00:00|               null|    Ipertensione|  1_18|                null|  GENNARO|    M|      1|6837054b383892705...|\n",
            "|                    null|PLTLNZ59E16-----|    20|      POLITO|          CARACAS|1959-05-16 00:00:00|               null|    Ipertensione|  1_20|                null|  LORENZO|    M|      1|6837054b383892705...|\n",
            "+------------------------+----------------+------+------------+-----------------+-------------------+-------------------+----------------+------+--------------------+---------+-----+-------+--------------------+\n",
            "only showing top 5 rows\n",
            "\n"
          ]
        }
      ]
    },
    {
      "cell_type": "markdown",
      "source": [
        "The number of tables (collections in MongoDB) we need to load is significant. To ensure an efficient workflow, we need to implement a proper organization system for this process."
      ],
      "metadata": {
        "id": "iP6mh1puy8hH"
      }
    },
    {
      "cell_type": "code",
      "source": [
        "# Dictionary of all csv paths\n",
        "csvPaths = {}\n",
        "healthDB_path = os.path.join(dataset_path, '2024-05-05-DATABASE')\n",
        "for collection in collection_string_list:\n",
        "  csvPaths[collection] = os.path.join(healthDB_path,collection + '.csv')"
      ],
      "metadata": {
        "id": "V4ViEaa5suat"
      },
      "execution_count": 10,
      "outputs": []
    },
    {
      "cell_type": "code",
      "source": [
        "print(csvPaths['ANAGRAFICA'])"
      ],
      "metadata": {
        "colab": {
          "base_uri": "https://localhost:8080/"
        },
        "id": "cYi_pxTUxyHf",
        "outputId": "b1c8341c-fc83-4767-8784-a11d4c930198"
      },
      "execution_count": 11,
      "outputs": [
        {
          "output_type": "stream",
          "name": "stdout",
          "text": [
            "/content/drive/MyDrive/Colab Notebooks/Big Data/Final_Project/Dataset/2024-05-05-DATABASE/ANAGRAFICA.csv\n"
          ]
        }
      ]
    },
    {
      "cell_type": "code",
      "source": [
        "!pip install pymongo"
      ],
      "metadata": {
        "colab": {
          "base_uri": "https://localhost:8080/"
        },
        "id": "K8JCIBM2A5pK",
        "outputId": "3e8cf158-ba7c-4bc7-dcc9-fd02c99c1963"
      },
      "execution_count": 12,
      "outputs": [
        {
          "output_type": "stream",
          "name": "stdout",
          "text": [
            "Collecting pymongo\n",
            "  Downloading pymongo-4.13.0-cp311-cp311-manylinux_2_17_x86_64.manylinux2014_x86_64.whl.metadata (22 kB)\n",
            "Collecting dnspython<3.0.0,>=1.16.0 (from pymongo)\n",
            "  Downloading dnspython-2.7.0-py3-none-any.whl.metadata (5.8 kB)\n",
            "Downloading pymongo-4.13.0-cp311-cp311-manylinux_2_17_x86_64.manylinux2014_x86_64.whl (1.4 MB)\n",
            "\u001b[2K   \u001b[90m━━━━━━━━━━━━━━━━━━━━━━━━━━━━━━━━━━━━━━━━\u001b[0m \u001b[32m1.4/1.4 MB\u001b[0m \u001b[31m25.8 MB/s\u001b[0m eta \u001b[36m0:00:00\u001b[0m\n",
            "\u001b[?25hDownloading dnspython-2.7.0-py3-none-any.whl (313 kB)\n",
            "\u001b[2K   \u001b[90m━━━━━━━━━━━━━━━━━━━━━━━━━━━━━━━━━━━━━━━━\u001b[0m \u001b[32m313.6/313.6 kB\u001b[0m \u001b[31m20.9 MB/s\u001b[0m eta \u001b[36m0:00:00\u001b[0m\n",
            "\u001b[?25hInstalling collected packages: dnspython, pymongo\n",
            "Successfully installed dnspython-2.7.0 pymongo-4.13.0\n"
          ]
        }
      ]
    },
    {
      "cell_type": "code",
      "source": [
        "import csv\n",
        "from pyspark.sql import SparkSession\n",
        "from pyspark.sql.functions import to_timestamp, unix_timestamp, col, substring, lit, when, length, regexp_replace\n",
        "from pymongo import MongoClient\n",
        "\n",
        "class CSVLoaderManager:\n",
        "    def __init__(self, spark: SparkSession, mongo_uri: str = None):\n",
        "        \"\"\"\n",
        "        The constructor initializes the CSVLoaderManager with a SparkSession and an optional MongoDB URI.\n",
        "        \"\"\"\n",
        "        self.spark = spark\n",
        "        self.mongo_uri = mongo_uri\n",
        "        self.datasets = {}\n",
        "\n",
        "    def _detect_delimiter(self, name, file_path: str, sample_size: int = 2048) -> str:\n",
        "        \"\"\"\n",
        "        The function reads a file part to infer the delimiter (CSV or TSV)\n",
        "        \"\"\"\n",
        "        with open(file_path, 'r', encoding='utf-8') as f:\n",
        "            # Reads some samples\n",
        "            sample = f.read(sample_size)\n",
        "            sniffer = csv.Sniffer()\n",
        "            try:\n",
        "                # Use sniffer for checking the delimiter\n",
        "                dialect = sniffer.sniff(sample)\n",
        "                print(f\"Name: {name}; Delimiter: {dialect.delimiter}\")\n",
        "                return dialect.delimiter\n",
        "            except csv.Error:\n",
        "                raise ValueError(f\"Unable to automatically detect the file delimiter format of: {file_path}\")\n",
        "\n",
        "\n",
        "    def load_csv(self, name: str, file_path: str) -> None:\n",
        "        \"\"\"\n",
        "        This function loads a CSV file into a Spark DataFrame,\n",
        "        it adds the dataframe to the manager's datasets\n",
        "        \"\"\"\n",
        "        delimiter = self._detect_delimiter(name, file_path)\n",
        "        ds = self.spark.read \\\n",
        "          .option(\"delimiter\",delimiter) \\\n",
        "          .option(\"inferSchema\", \"true\") \\\n",
        "          .option(\"header\", \"true\") \\\n",
        "          .option(\"multiline\", \"true\") \\\n",
        "          .option(\"quote\", \"\\\"\") \\\n",
        "          .option(\"escape\", \"\\\"\") \\\n",
        "          .csv(file_path)\n",
        "        self.datasets[name] = ds\n",
        "        ds.printSchema()\n",
        "\n",
        "    def load_many(self, files) -> None:\n",
        "        \"\"\"\n",
        "        This function loads multiple CSV files into Spark DataFrames\n",
        "        \"\"\"\n",
        "        for name, path in files.items():\n",
        "            self.load_csv(name, path)\n",
        "\n",
        "    def get(self, name: str):\n",
        "        return self.datasets.get(name)\n",
        "\n",
        "    def set(self, name: str, df, overwrite: bool=True):\n",
        "      \"\"\"\n",
        "      This function sets a DataFrame in the manager's datasets,\n",
        "      it can overwrites the DataFrame if it already exists with the parameter 'overwrite'\n",
        "      \"\"\"\n",
        "      if not hasattr(df, 'schema'):\n",
        "        raise TypeError(\"The given value is not a Spark dataframe.\")\n",
        "      if name in self.datasets and not overwrite:\n",
        "        raise ValueError(f\"The dataset '{name}' already exists. Use overwrite=True.\")\n",
        "      self.datasets[name] = df\n",
        "\n",
        "    def list_datasets(self):\n",
        "      \"\"\"\n",
        "      This function returns a list of the names of the datasets in the manager\n",
        "      \"\"\"\n",
        "      return list(self.datasets.keys())\n",
        "\n",
        "    def save_to_mongo(self, name: str, database: str, mode: str = \"ignore\") -> None:\n",
        "      \"\"\"\n",
        "      This function saves a DataFrame to MongoDB ATLAS\n",
        "      \"\"\"\n",
        "      if name not in self.datasets:\n",
        "          raise ValueError(f\"Dataset '{name}' not found.\")\n",
        "      if not self.mongo_uri:\n",
        "          raise ValueError(\"Mongo URI not configured.\")\n",
        "\n",
        "      df = self.datasets[name]\n",
        "      df.write \\\n",
        "          .format(\"mongodb\") \\\n",
        "          .mode(mode) \\\n",
        "          .option(\"database\", database) \\\n",
        "          .option(\"collection\", name) \\\n",
        "          .save()\n",
        "\n",
        "    def drop_collections(self, database: str, collections: list) -> None:\n",
        "      \"\"\"\n",
        "      Drops specified collections from the given MongoDB database.\n",
        "      \"\"\"\n",
        "      if not self.mongo_uri:\n",
        "          raise ValueError(\"Mongo URI not configured.\")\n",
        "      client = MongoClient(self.mongo_uri)\n",
        "      db = client[database]\n",
        "      for collection in collections:\n",
        "        if collection in db.list_collection_names():\n",
        "          db.drop_collection(collection)\n",
        "          print(f\"Collection '{collection}' dropped successfully.\")\n",
        "        else:\n",
        "          print(f\"Collection '{collection}' not found in the database.\")\n",
        "      client.close()\n",
        "\n",
        "    def anonymize_columns(self, dataset_name: str, columns_to_anonymize: list) -> None:\n",
        "        \"\"\"\n",
        "        Anonimizza le colonne specificate in un DataFrame Spark, sostituendo\n",
        "        il valore originale con la sola iniziale del valore.\n",
        "\n",
        "        Args:\n",
        "            dataset_name (str): Il nome del dataset nel manager da anonimizzare.\n",
        "            columns_to_anonymize (list): Lista di nomi di colonne da anonimizzare.\n",
        "        \"\"\"\n",
        "        if dataset_name not in self.datasets:\n",
        "            raise ValueError(f\"Dataset '{dataset_name}' not found for anonymization.\")\n",
        "\n",
        "        df = self.datasets[dataset_name]\n",
        "\n",
        "        # Inizializza il DataFrame modificato con il DataFrame originale\n",
        "        df_anon = df\n",
        "\n",
        "        for col_name in columns_to_anonymize:\n",
        "            if col_name in df.columns:\n",
        "              if col_name != 'CODICE_FISCALE':\n",
        "                df_anon = df_anon.withColumn(\n",
        "                    col_name,\n",
        "                    when(\n",
        "                        col(col_name).isNull(),\n",
        "                        lit(None) # Se è nullo, rimane nullo\n",
        "                    ).when(\n",
        "                        length(col(col_name)) == 0,\n",
        "                        lit(\"\") # Se è una stringa vuota, rimane vuota\n",
        "                    ).otherwise(\n",
        "                        substring(col(col_name), 1, 1) # Prende solo il primo carattere\n",
        "                    )\n",
        "                )\n",
        "              else:\n",
        "                df_anon = df_anon.withColumn(\n",
        "                    col_name,\n",
        "                    when(\n",
        "                        col(col_name).isNull(),\n",
        "                        lit(None) # Se è nullo, rimane nullo\n",
        "                    ).when(\n",
        "                        length(col(col_name)) == 0,\n",
        "                        lit(\"\") # Se è una stringa vuota, rimane vuota\n",
        "                    ).otherwise(\n",
        "                       regexp_replace(col(col_name), \"[A-Za-z]\", \"-\") # Prende solo il primo carattere\n",
        "                    )\n",
        "                )\n",
        "            else:\n",
        "                print(f\"Attenzione: La colonna '{col_name}' non esiste nel dataset '{dataset_name}'. Verrà ignorata.\")\n",
        "\n",
        "        # Aggiorna il dataset nel manager con il DataFrame anonimizzato\n",
        "        self.set(dataset_name, df_anon, overwrite=True)\n",
        "        print(f\"Dataset '{dataset_name}' anonimizzato per le colonne: {', '.join(columns_to_anonymize)}. Ora contengono solo la prima lettera.\")\n",
        "        df_anon.printSchema() # Stampa lo schema per verificare\n"
      ],
      "metadata": {
        "id": "qm8OpdEPV9Be"
      },
      "execution_count": 13,
      "outputs": []
    },
    {
      "cell_type": "markdown",
      "source": [
        "Now we can load all the collections into dataframe to manipulate them."
      ],
      "metadata": {
        "id": "6udv8wP83g8a"
      }
    },
    {
      "cell_type": "code",
      "source": [
        "manager = CSVLoaderManager(spark, mongo_uri)\n",
        "manager.load_many(csvPaths)\n",
        "manager.list_datasets()"
      ],
      "metadata": {
        "colab": {
          "base_uri": "https://localhost:8080/"
        },
        "id": "-90TGTFAYCpI",
        "outputId": "9025d899-6cae-43ce-9799-cdd90d7582a8"
      },
      "execution_count": 14,
      "outputs": [
        {
          "output_type": "stream",
          "name": "stdout",
          "text": [
            "Name: ANAGRAFICA; Delimiter: ,\n",
            "root\n",
            " |-- SEZIONE: integer (nullable = true)\n",
            " |-- CODPAZ: integer (nullable = true)\n",
            " |-- COGNOME: string (nullable = true)\n",
            " |-- NOMEPAZ: string (nullable = true)\n",
            " |-- DATADINASCITA: date (nullable = true)\n",
            " |-- SESSO: string (nullable = true)\n",
            " |-- COMUNE_DI_NASCITA: string (nullable = true)\n",
            " |-- CODICE_COMUNE_DI_NASCITA: string (nullable = true)\n",
            " |-- CODICE_FISCALE: string (nullable = true)\n",
            " |-- GATE_DI_INGRESSO: string (nullable = true)\n",
            " |-- MOTIVO_DECESSO: string (nullable = true)\n",
            " |-- DATA_DECESSO: date (nullable = true)\n",
            "\n",
            "Name: ANAMNESI; Delimiter: \t\n",
            "root\n",
            " |-- SEZIONE: integer (nullable = true)\n",
            " |-- CODPAZ: integer (nullable = true)\n",
            " |-- DATA: date (nullable = true)\n",
            " |-- NUM_PROGRESSIVO: integer (nullable = true)\n",
            " |-- DIABETE: string (nullable = true)\n",
            " |-- DISLIPIDEMIA: string (nullable = true)\n",
            " |-- DISLIPIDEMIA_IPERCOLESTEROLEMIA: string (nullable = true)\n",
            " |-- DISLIPIDEMIA_IPERTRIGLICERIDEMIA: string (nullable = true)\n",
            " |-- DISLIPIDEMIA_MISTA: string (nullable = true)\n",
            " |-- FUMO: string (nullable = true)\n",
            " |-- PREVIOUS_IMA: string (nullable = true)\n",
            " |-- PREVIOUS_PCI: string (nullable = true)\n",
            " |-- PREVIOUS_CABG: string (nullable = true)\n",
            " |-- CAD: string (nullable = true)\n",
            " |-- STROKE: string (nullable = true)\n",
            " |-- CAD_FAMILIARITY_CEREBRAL: string (nullable = true)\n",
            " |-- CAD_FAMILIARITY_CARDIAC: string (nullable = true)\n",
            " |-- CAD_FAMILIARITY: string (nullable = true)\n",
            " |-- NUM_PROGRESSIVO_GLOBALE: integer (nullable = true)\n",
            " |-- GATE_DI_INGRESSO: string (nullable = true)\n",
            "\n",
            "Name: CORONAROGRAFIA_PTCA; Delimiter: \t\n",
            "root\n",
            " |-- SEZIONE: integer (nullable = true)\n",
            " |-- CODPAZ: integer (nullable = true)\n",
            " |-- DATA: date (nullable = true)\n",
            " |-- NUM_PROGRESSIVO: integer (nullable = true)\n",
            " |-- LESIONI_TC: string (nullable = true)\n",
            " |-- LESIONI_IVA: string (nullable = true)\n",
            " |-- LESIONI_CX: string (nullable = true)\n",
            " |-- LESIONI_DX: string (nullable = true)\n",
            " |-- NUM_PROGRESSIVO_GLOBALE: integer (nullable = true)\n",
            " |-- GATE_DI_INGRESSO: string (nullable = true)\n",
            "\n",
            "Name: ECOCARDIO_DATI; Delimiter: \t\n",
            "root\n",
            " |-- SEZIONE: integer (nullable = true)\n",
            " |-- CODPAZ: integer (nullable = true)\n",
            " |-- DATA: date (nullable = true)\n",
            " |-- NUM_PROGRESSIVO: integer (nullable = true)\n",
            " |-- EF: double (nullable = true)\n",
            " |-- AORTA_ASCENDENTE: double (nullable = true)\n",
            " |-- AORTA_ADDOMINALE: double (nullable = true)\n",
            " |-- PESO: double (nullable = true)\n",
            " |-- ALTEZZA: double (nullable = true)\n",
            " |-- PAS: double (nullable = true)\n",
            " |-- PAD: double (nullable = true)\n",
            " |-- RR: double (nullable = true)\n",
            " |-- AORTA: double (nullable = true)\n",
            " |-- VSTD: double (nullable = true)\n",
            " |-- VSTS: double (nullable = true)\n",
            " |-- SIVTD: double (nullable = true)\n",
            " |-- PPTD: double (nullable = true)\n",
            " |-- PFVE: double (nullable = true)\n",
            " |-- PFVA: double (nullable = true)\n",
            " |-- EA: double (nullable = true)\n",
            " |-- DT: double (nullable = true)\n",
            " |-- LVVS: double (nullable = true)\n",
            " |-- LVVD: double (nullable = true)\n",
            " |-- LVVD_2CH: double (nullable = true)\n",
            " |-- LVVS_2CH: double (nullable = true)\n",
            " |-- E_TDI_SETTALE: double (nullable = true)\n",
            " |-- E_TDI: double (nullable = true)\n",
            " |-- LAV: double (nullable = true)\n",
            " |-- _2CH_LAV: double (nullable = true)\n",
            " |-- JET_RIG_TRIC: double (nullable = true)\n",
            " |-- TAPSE: double (nullable = true)\n",
            " |-- ATRIO: double (nullable = true)\n",
            " |-- BICUSPIDE: string (nullable = true)\n",
            " |-- INSUFFICIENZA_AORTICA: string (nullable = true)\n",
            " |-- INSUFFICIENZA_MITRALICA: string (nullable = true)\n",
            " |-- INSUFFICIENZA_TRICUSPIDALICA: string (nullable = true)\n",
            " |-- STENOSI_AORTICA: string (nullable = true)\n",
            " |-- STENOSI_MITRALICA: string (nullable = true)\n",
            " |-- TROMBO: string (nullable = true)\n",
            " |-- HEART_FAILURE: string (nullable = true)\n",
            " |-- AORTIC_DISEASE_ASCENDING_AORTIC_DILATION: string (nullable = true)\n",
            " |-- AORTIC_DISEASE_ASCENDING_AORTIC_ANEURYSM: string (nullable = true)\n",
            " |-- AORTIC_DISEASE_ABDOMINAL_AORTIC_ANEURYSM: string (nullable = true)\n",
            " |-- NUM_PROGRESSIVO_GLOBALE: integer (nullable = true)\n",
            " |-- GATE_DI_INGRESSO: string (nullable = true)\n",
            "\n",
            "Name: ECOCAROTIDI; Delimiter: \t\n",
            "root\n",
            " |-- SEZIONE: integer (nullable = true)\n",
            " |-- CODPAZ: integer (nullable = true)\n",
            " |-- DATA: date (nullable = true)\n",
            " |-- NUM_PROGRESSIVO: integer (nullable = true)\n",
            " |-- C_COMUNE_DIAMETRO: double (nullable = true)\n",
            " |-- IMTMAX: double (nullable = true)\n",
            " |-- MAXIMTNEARCIDX: double (nullable = true)\n",
            " |-- MAXIMTNEARCISX: double (nullable = true)\n",
            " |-- MAXIMTFARCIDX: double (nullable = true)\n",
            " |-- MAXIMTFARCISX: double (nullable = true)\n",
            " |-- MAXIMTNEARBDX: double (nullable = true)\n",
            " |-- MAXIMTNEARBSX: double (nullable = true)\n",
            " |-- MAXIMTFARBDX: double (nullable = true)\n",
            " |-- MAXIMTFARBSX: double (nullable = true)\n",
            " |-- MAXIMTNEARCCDX: double (nullable = true)\n",
            " |-- MAXIMTNEARCCSX: double (nullable = true)\n",
            " |-- MAXIMTFARCCDX: double (nullable = true)\n",
            " |-- MAXIMTFARCCSX: double (nullable = true)\n",
            " |-- ESAME_NELLA_NORMA: string (nullable = true)\n",
            " |-- ATEROSCLEROSI_LIEVE: string (nullable = true)\n",
            " |-- ATEROSCLEROSI_MODERATA: string (nullable = true)\n",
            " |-- ATEROSCLEROSI_SEVERA: string (nullable = true)\n",
            " |-- NUM_PROGRESSIVO_GLOBALE: integer (nullable = true)\n",
            " |-- GATE_DI_INGRESSO: string (nullable = true)\n",
            "\n",
            "Name: ESAMI_LABORATORIO; Delimiter: \t\n",
            "root\n",
            " |-- SEZIONE: integer (nullable = true)\n",
            " |-- CODPAZ: integer (nullable = true)\n",
            " |-- DATA: date (nullable = true)\n",
            " |-- NUM_PROGRESSIVO: integer (nullable = true)\n",
            " |-- GLICEMIA: double (nullable = true)\n",
            " |-- CREATININEMIA: double (nullable = true)\n",
            " |-- EMOGLOBINA: double (nullable = true)\n",
            " |-- URICEMIA: double (nullable = true)\n",
            " |-- SODIEMIA: double (nullable = true)\n",
            " |-- POTASSIEMIA: double (nullable = true)\n",
            " |-- CALCEMIA: double (nullable = true)\n",
            " |-- TRIGLICERIDI: double (nullable = true)\n",
            " |-- COLESTEROLO: double (nullable = true)\n",
            " |-- HDL: double (nullable = true)\n",
            " |-- PCR: double (nullable = true)\n",
            " |-- HBA1C_PERC: double (nullable = true)\n",
            " |-- MALBUMINURIA: double (nullable = true)\n",
            " |-- PROTEINURIA24: double (nullable = true)\n",
            " |-- OMOCISTEINEMIA: double (nullable = true)\n",
            " |-- PROTEINE_TOTALI: double (nullable = true)\n",
            " |-- ALBUMINE: double (nullable = true)\n",
            " |-- GOT: string (nullable = true)\n",
            " |-- GPT: string (nullable = true)\n",
            " |-- DIABETE: string (nullable = true)\n",
            " |-- FILTRATO_GFR: double (nullable = true)\n",
            " |-- CKD: string (nullable = true)\n",
            " |-- CKD_STADIO: string (nullable = true)\n",
            " |-- NUM_PROGRESSIVO_GLOBALE: integer (nullable = true)\n",
            " |-- GATE_DI_INGRESSO: string (nullable = true)\n",
            "\n",
            "Name: ESAMI_SPECIALISTICI; Delimiter: \t\n",
            "root\n",
            " |-- SEZIONE: integer (nullable = true)\n",
            " |-- CODPAZ: integer (nullable = true)\n",
            " |-- DATA: date (nullable = true)\n",
            " |-- NUM_PROGRESSIVO: integer (nullable = true)\n",
            " |-- FT3: double (nullable = true)\n",
            " |-- FT4: double (nullable = true)\n",
            " |-- TSH: double (nullable = true)\n",
            " |-- NUM_PROGRESSIVO_GLOBALE: integer (nullable = true)\n",
            " |-- GATE_DI_INGRESSO: string (nullable = true)\n",
            "\n",
            "Name: ESAMI_STRUMENTALI_CARDIO; Delimiter: \t\n",
            "root\n",
            " |-- SEZIONE: integer (nullable = true)\n",
            " |-- CODPAZ: integer (nullable = true)\n",
            " |-- DATA: date (nullable = true)\n",
            " |-- NUM_PROGRESSIVO: integer (nullable = true)\n",
            " |-- CONCLUSIONI: string (nullable = true)\n",
            " |-- NUM_PROGRESSIVO_GLOBALE: integer (nullable = true)\n",
            " |-- GATE_DI_INGRESSO: string (nullable = true)\n",
            "\n",
            "Name: LISTA_EVENTI; Delimiter: \t\n",
            "root\n",
            " |-- SEZIONE: integer (nullable = true)\n",
            " |-- CODPAZ: integer (nullable = true)\n",
            " |-- DATA: date (nullable = true)\n",
            " |-- NUM_PROGRESSIVO: integer (nullable = true)\n",
            " |-- TIPO_EVENTO: string (nullable = true)\n",
            " |-- NUM_PROGRESSIVO_GLOBALE: integer (nullable = true)\n",
            "\n",
            "Name: PREVALENT; Delimiter: \t\n",
            "root\n",
            " |-- SEZIONE: integer (nullable = true)\n",
            " |-- CODPAZ: integer (nullable = true)\n",
            " |-- DATA: date (nullable = true)\n",
            " |-- DIABETE: string (nullable = true)\n",
            " |-- DIABETE_INSULINE_TREATED: string (nullable = true)\n",
            " |-- DIABETE_ORAL_TERAPY: string (nullable = true)\n",
            " |-- DISLIPIDEMIA: string (nullable = true)\n",
            " |-- DISLIPIDEMIA_STATINE: string (nullable = true)\n",
            " |-- DISLIPIDEMIA_FIBRATI: string (nullable = true)\n",
            " |-- BMI: double (nullable = true)\n",
            " |-- OBESITA: string (nullable = true)\n",
            " |-- PREVIOUS_IMA: string (nullable = true)\n",
            " |-- CAD: string (nullable = true)\n",
            " |-- ATRIAL_FIBRILLATION: string (nullable = true)\n",
            " |-- PESO: double (nullable = true)\n",
            " |-- ALTEZZA: double (nullable = true)\n",
            " |-- PASDOMICILIO: double (nullable = true)\n",
            " |-- PADDOMICILIO: double (nullable = true)\n",
            " |-- PACLINOMINM: double (nullable = true)\n",
            " |-- PACLINOMAXM: double (nullable = true)\n",
            " |-- FREQCLINO: double (nullable = true)\n",
            " |-- PAORTOMINM: double (nullable = true)\n",
            " |-- PAORTOMAXM: double (nullable = true)\n",
            " |-- FREQORTO: double (nullable = true)\n",
            " |-- PASITMINM: double (nullable = true)\n",
            " |-- PASITMAXM: double (nullable = true)\n",
            " |-- FREQSIT: double (nullable = true)\n",
            " |-- FUMO: string (nullable = true)\n",
            " |-- DIURETICI: string (nullable = true)\n",
            " |-- ALFABLOCCANTI: string (nullable = true)\n",
            " |-- BETABLOCCANTI: string (nullable = true)\n",
            " |-- ACEINIBITORI: string (nullable = true)\n",
            " |-- AT1ANTAGONISTI: string (nullable = true)\n",
            " |-- DIIDROPIRIDINICI: string (nullable = true)\n",
            " |-- ANTIARITMICI: string (nullable = true)\n",
            " |-- ANTIAGGREGANTI: string (nullable = true)\n",
            " |-- ANTICOAGULANTI: string (nullable = true)\n",
            " |-- SEGUETERAPIA: string (nullable = true)\n",
            " |-- TIPO_DI_RICOVERO_CARDIO: string (nullable = true)\n",
            " |-- TIPO_DI_RICOVERO_EXTRA: string (nullable = true)\n",
            " |-- CAUSA_RICOVERO_EXTRA: string (nullable = true)\n",
            " |-- NYHA: string (nullable = true)\n",
            " |-- STADIO_SCOMPENSO: string (nullable = true)\n",
            " |-- GATE_DI_INGRESSO: string (nullable = true)\n",
            "\n",
            "Name: RICOVERO_OSPEDALIERO; Delimiter: \t\n",
            "root\n",
            " |-- SEZIONE: integer (nullable = true)\n",
            " |-- CODPAZ: integer (nullable = true)\n",
            " |-- DATA: date (nullable = true)\n",
            " |-- NUM_PROGRESSIVO: integer (nullable = true)\n",
            " |-- RICHIESTA_RICOVERO: string (nullable = true)\n",
            " |-- SINTOMI: string (nullable = true)\n",
            " |-- SINTOMI_PS: string (nullable = true)\n",
            " |-- NUM_PROGRESSIVO_GLOBALE: integer (nullable = true)\n",
            " |-- GATE_DI_INGRESSO: string (nullable = true)\n",
            "\n",
            "Name: VISITA_CONTROLLO_ECG; Delimiter: \t\n",
            "root\n",
            " |-- SEZIONE: integer (nullable = true)\n",
            " |-- CODPAZ: integer (nullable = true)\n",
            " |-- DATA: date (nullable = true)\n",
            " |-- NUM_PROGRESSIVO: integer (nullable = true)\n",
            " |-- DIABETE: string (nullable = true)\n",
            " |-- DIABETE_INSULINE_TREATED: string (nullable = true)\n",
            " |-- DIABETE_ORAL_TERAPY: string (nullable = true)\n",
            " |-- DISLIPIDEMIA: string (nullable = true)\n",
            " |-- DISLIPIDEMIA_STATINE: string (nullable = true)\n",
            " |-- DISLIPIDEMIA_FIBRATI: string (nullable = true)\n",
            " |-- BMI: double (nullable = true)\n",
            " |-- OBESITA: string (nullable = true)\n",
            " |-- PREVIOUS_IMA: string (nullable = true)\n",
            " |-- CAD: string (nullable = true)\n",
            " |-- ATRIAL_FIBRILLATION: string (nullable = true)\n",
            " |-- PESO: double (nullable = true)\n",
            " |-- ALTEZZA: double (nullable = true)\n",
            " |-- PASDOMICILIO: double (nullable = true)\n",
            " |-- PADDOMICILIO: double (nullable = true)\n",
            " |-- PACLINOMINM: double (nullable = true)\n",
            " |-- PACLINOMAXM: double (nullable = true)\n",
            " |-- FREQCLINO: double (nullable = true)\n",
            " |-- PAORTOMINM: double (nullable = true)\n",
            " |-- PAORTOMAXM: double (nullable = true)\n",
            " |-- FREQORTO: double (nullable = true)\n",
            " |-- PASITMINM: double (nullable = true)\n",
            " |-- PASITMAXM: double (nullable = true)\n",
            " |-- FREQSIT: double (nullable = true)\n",
            " |-- FUMO: string (nullable = true)\n",
            " |-- DIURETICI: string (nullable = true)\n",
            " |-- ALFABLOCCANTI: string (nullable = true)\n",
            " |-- BETABLOCCANTI: string (nullable = true)\n",
            " |-- ACEINIBITORI: string (nullable = true)\n",
            " |-- AT1ANTAGONISTI: string (nullable = true)\n",
            " |-- DIIDROPIRIDINICI: string (nullable = true)\n",
            " |-- ANTIARITMICI: string (nullable = true)\n",
            " |-- ANTIAGGREGANTI: string (nullable = true)\n",
            " |-- ANTICOAGULANTI: string (nullable = true)\n",
            " |-- SEGUETERAPIA: string (nullable = true)\n",
            " |-- TIPO_DI_RICOVERO_CARDIO: string (nullable = true)\n",
            " |-- TIPO_DI_RICOVERO_EXTRA: string (nullable = true)\n",
            " |-- CAUSA_RICOVERO_EXTRA: string (nullable = true)\n",
            " |-- NYHA: string (nullable = true)\n",
            " |-- STADIO_SCOMPENSO: string (nullable = true)\n",
            " |-- NUM_PROGRESSIVO_GLOBALE: integer (nullable = true)\n",
            " |-- GATE_DI_INGRESSO: string (nullable = true)\n",
            "\n"
          ]
        },
        {
          "output_type": "execute_result",
          "data": {
            "text/plain": [
              "['ANAGRAFICA',\n",
              " 'ANAMNESI',\n",
              " 'CORONAROGRAFIA_PTCA',\n",
              " 'ECOCARDIO_DATI',\n",
              " 'ECOCAROTIDI',\n",
              " 'ESAMI_LABORATORIO',\n",
              " 'ESAMI_SPECIALISTICI',\n",
              " 'ESAMI_STRUMENTALI_CARDIO',\n",
              " 'LISTA_EVENTI',\n",
              " 'PREVALENT',\n",
              " 'RICOVERO_OSPEDALIERO',\n",
              " 'VISITA_CONTROLLO_ECG']"
            ]
          },
          "metadata": {},
          "execution_count": 14
        }
      ]
    },
    {
      "cell_type": "code",
      "source": [
        "manager.get('LISTA_EVENTI').printSchema()"
      ],
      "metadata": {
        "colab": {
          "base_uri": "https://localhost:8080/"
        },
        "id": "MUAeHzgvYyg3",
        "outputId": "52f3f61e-3128-4543-a4d3-060a4df9848a"
      },
      "execution_count": 15,
      "outputs": [
        {
          "output_type": "stream",
          "name": "stdout",
          "text": [
            "root\n",
            " |-- SEZIONE: integer (nullable = true)\n",
            " |-- CODPAZ: integer (nullable = true)\n",
            " |-- DATA: date (nullable = true)\n",
            " |-- NUM_PROGRESSIVO: integer (nullable = true)\n",
            " |-- TIPO_EVENTO: string (nullable = true)\n",
            " |-- NUM_PROGRESSIVO_GLOBALE: integer (nullable = true)\n",
            "\n"
          ]
        }
      ]
    },
    {
      "cell_type": "markdown",
      "source": [
        "In general all datasets are quite cleaned, but there is something that could give trouble in the future. For example some columns have same values but sometimes in lower case and other time in Upper case."
      ],
      "metadata": {
        "id": "hzIiz_Zr4eFE"
      }
    },
    {
      "cell_type": "code",
      "source": [
        "# Let's capitalize the columns that may give problems in query generation\n",
        "from pyspark.sql.functions import col, upper\n",
        "\n",
        "df = manager.get('ANAGRAFICA')\n",
        "\n",
        "upper_df = df \\\n",
        "      .withColumn(\"COGNOME\", upper(col(\"COGNOME\"))) \\\n",
        "      .withColumn(\"NOMEPAZ\", upper(col(\"NOMEPAZ\"))) \\\n",
        "      .withColumn(\"COMUNE_DI_NASCITA\", upper(col(\"COMUNE_DI_NASCITA\")))\n",
        "\n",
        "manager.set('ANAGRAFICA', upper_df)\n",
        "manager.get('ANAGRAFICA').show(10)"
      ],
      "metadata": {
        "id": "0hBRrmbbsbR7",
        "colab": {
          "base_uri": "https://localhost:8080/"
        },
        "outputId": "bb271614-9f5f-4729-c354-008845848209"
      },
      "execution_count": 16,
      "outputs": [
        {
          "output_type": "stream",
          "name": "stdout",
          "text": [
            "+-------+------+------------+----------+-------------+-----+-----------------+------------------------+----------------+----------------+--------------------+------------+\n",
            "|SEZIONE|CODPAZ|     COGNOME|   NOMEPAZ|DATADINASCITA|SESSO|COMUNE_DI_NASCITA|CODICE_COMUNE_DI_NASCITA|  CODICE_FISCALE|GATE_DI_INGRESSO|      MOTIVO_DECESSO|DATA_DECESSO|\n",
            "+-------+------+------------+----------+-------------+-----+-----------------+------------------------+----------------+----------------+--------------------+------------+\n",
            "|      1|     1|           A|     NELLO|   1937-02-16|    F|                -|                    null|---NLL37B56-----|         Esterno|                null|        null|\n",
            "|      1|     7|       NAVAS| MADDALENA|   1937-01-18|    F|           ACERRA|                    A024|NVSMDL37A58A024E|    Ipertensione|Causa extracardio...|  2019-07-02|\n",
            "|      1|    17|D`ALESSANDRO|  RAFFAELE|   1932-10-24|    M|                 |                        |DLSRFL32R24-----|    Ipertensione|                    |        null|\n",
            "|      1|    18|      GALANO|   GENNARO|   1956-04-21|    M|           NAPOLI|                    F839|GLNGNR56D21F839J|    Ipertensione|                null|        null|\n",
            "|      1|    20|      POLITO|   LORENZO|   1959-05-16|    M|          CARACAS|                        |PLTLNZ59E16-----|    Ipertensione|                    |        null|\n",
            "|      1|    24|     ORLANDO|     MARIO|   1940-04-03|    M|                 |                        |RLNMRA40D03-----|    Ipertensione|                null|        null|\n",
            "|      1|    25|    GIARDINO|COSTANTINO|   1932-01-23|    M|           NAPOLI|                    F839|GRDCTN32A23F839F|    Ipertensione|                    |        null|\n",
            "|      1|    27|   DI NATALE|  GIUSEPPE|   1943-07-16|    M|           NAPOLI|                    F839|DNTGPP43L16F839I|    Ipertensione|                null|        null|\n",
            "|      1|    28|    DE CONTE|  GIOVANNI|   1924-09-09|    M| NOCERA INFERIORE|                    F912|DCNGNN24P09F912D|    Ipertensione|                null|        null|\n",
            "|      1|    29|        ORTO|   ANTONIO|   1955-12-11|    M|           NAPOLI|                    F839|RTONTN55T11F839D|    Ipertensione|                    |        null|\n",
            "+-------+------+------------+----------+-------------+-----+-----------------+------------------------+----------------+----------------+--------------------+------------+\n",
            "only showing top 10 rows\n",
            "\n"
          ]
        }
      ]
    },
    {
      "cell_type": "code",
      "source": [
        "# Anonimizing dataset\n",
        "df = manager.get('ANAGRAFICA')\n",
        "columns_to_anonymize = ['COGNOME', 'NOMEPAZ', 'CODICE_FISCALE']\n",
        "manager.anonymize_columns('ANAGRAFICA', columns_to_anonymize)\n",
        "\n",
        "\n",
        "manager.get('ANAGRAFICA').show(10)\n"
      ],
      "metadata": {
        "colab": {
          "base_uri": "https://localhost:8080/"
        },
        "id": "MqIC_5nxMB8a",
        "outputId": "7900fd45-c9c0-4dbd-f3af-b4b9258253bd"
      },
      "execution_count": 17,
      "outputs": [
        {
          "output_type": "stream",
          "name": "stdout",
          "text": [
            "Dataset 'ANAGRAFICA' anonimizzato per le colonne: COGNOME, NOMEPAZ, CODICE_FISCALE. Ora contengono solo la prima lettera.\n",
            "root\n",
            " |-- SEZIONE: integer (nullable = true)\n",
            " |-- CODPAZ: integer (nullable = true)\n",
            " |-- COGNOME: string (nullable = true)\n",
            " |-- NOMEPAZ: string (nullable = true)\n",
            " |-- DATADINASCITA: date (nullable = true)\n",
            " |-- SESSO: string (nullable = true)\n",
            " |-- COMUNE_DI_NASCITA: string (nullable = true)\n",
            " |-- CODICE_COMUNE_DI_NASCITA: string (nullable = true)\n",
            " |-- CODICE_FISCALE: string (nullable = true)\n",
            " |-- GATE_DI_INGRESSO: string (nullable = true)\n",
            " |-- MOTIVO_DECESSO: string (nullable = true)\n",
            " |-- DATA_DECESSO: date (nullable = true)\n",
            "\n",
            "+-------+------+-------+-------+-------------+-----+-----------------+------------------------+----------------+----------------+--------------------+------------+\n",
            "|SEZIONE|CODPAZ|COGNOME|NOMEPAZ|DATADINASCITA|SESSO|COMUNE_DI_NASCITA|CODICE_COMUNE_DI_NASCITA|  CODICE_FISCALE|GATE_DI_INGRESSO|      MOTIVO_DECESSO|DATA_DECESSO|\n",
            "+-------+------+-------+-------+-------------+-----+-----------------+------------------------+----------------+----------------+--------------------+------------+\n",
            "|      1|     1|      A|      N|   1937-02-16|    F|                -|                    null|------37-56-----|         Esterno|                null|        null|\n",
            "|      1|     7|      N|      M|   1937-01-18|    F|           ACERRA|                    A024|------37-58-024-|    Ipertensione|Causa extracardio...|  2019-07-02|\n",
            "|      1|    17|      D|      R|   1932-10-24|    M|                 |                        |------32-24-----|    Ipertensione|                    |        null|\n",
            "|      1|    18|      G|      G|   1956-04-21|    M|           NAPOLI|                    F839|------56-21-839-|    Ipertensione|                null|        null|\n",
            "|      1|    20|      P|      L|   1959-05-16|    M|          CARACAS|                        |------59-16-----|    Ipertensione|                    |        null|\n",
            "|      1|    24|      O|      M|   1940-04-03|    M|                 |                        |------40-03-----|    Ipertensione|                null|        null|\n",
            "|      1|    25|      G|      C|   1932-01-23|    M|           NAPOLI|                    F839|------32-23-839-|    Ipertensione|                    |        null|\n",
            "|      1|    27|      D|      G|   1943-07-16|    M|           NAPOLI|                    F839|------43-16-839-|    Ipertensione|                null|        null|\n",
            "|      1|    28|      D|      G|   1924-09-09|    M| NOCERA INFERIORE|                    F912|------24-09-912-|    Ipertensione|                null|        null|\n",
            "|      1|    29|      O|      A|   1955-12-11|    M|           NAPOLI|                    F839|------55-11-839-|    Ipertensione|                    |        null|\n",
            "+-------+------+-------+-------+-------------+-----+-----------------+------------------------+----------------+----------------+--------------------+------------+\n",
            "only showing top 10 rows\n",
            "\n"
          ]
        }
      ]
    },
    {
      "cell_type": "markdown",
      "source": [
        "Another problem is the presence of more \"null\" values in some columns."
      ],
      "metadata": {
        "id": "wQ9HAuqj6Pa_"
      }
    },
    {
      "cell_type": "code",
      "source": [
        "from pyspark.sql.functions import udf, col\n",
        "from pyspark.sql.types import DataType\n",
        "from typing import Any\n",
        "\n",
        "def normalize_null(value):\n",
        "    \"\"\"\n",
        "    The function uniforms null or unexisting values at None.\n",
        "    \"\"\"\n",
        "    null_equivalents = {\"\", \" \", \"  \", \"null\", \"None\", \"N/A\", \"na\", \"-\", \"--\", \"NaN\"}\n",
        "\n",
        "    if isinstance(value, str):\n",
        "        value = value.strip()\n",
        "    return None if value in null_equivalents else value\n",
        "\n",
        "def create_normalize_udf(return_type: DataType) -> Any:\n",
        "    \"\"\"\n",
        "    Creates a UDF that normalizes null values and preserves the specified data type.\n",
        "\n",
        "    Args:\n",
        "        return_type: The Spark DataType to preserve.\n",
        "\n",
        "    Returns:\n",
        "        A PySpark UDF.\n",
        "    \"\"\"\n",
        "    def _normalize(value: Any) -> Any:\n",
        "        return normalize_null(value)\n",
        "    return udf(_normalize, return_type)\n"
      ],
      "metadata": {
        "id": "lqk_ILt1hLpp"
      },
      "execution_count": 18,
      "outputs": []
    },
    {
      "cell_type": "code",
      "source": [
        "from pyspark.sql.functions import udf, col\n",
        "from pyspark.sql.types import StringType\n",
        "\n",
        "for name in collection_string_list:\n",
        "  df = manager.get(name)\n",
        "\n",
        "  for column_name, column_type in df.dtypes:\n",
        "    norm_udf = create_normalize_udf(column_type)\n",
        "    df = df.withColumn(column_name, norm_udf(col(column_name)))\n",
        "\n",
        "  manager.set(name, df)\n"
      ],
      "metadata": {
        "id": "HnfV9tz_hW4k"
      },
      "execution_count": 19,
      "outputs": []
    },
    {
      "cell_type": "markdown",
      "source": [
        "In the end, we need to create a unique foreign key for all collections. It's not strictly mandatory, but we believe it could be useful for several reasons:\n",
        "\n",
        "* Better Indexing\n",
        "* Simpler Join Queries\n",
        "* Clearer Data Model"
      ],
      "metadata": {
        "id": "jVUvIAX2rUDe"
      }
    },
    {
      "cell_type": "code",
      "source": [
        "from pyspark.sql.functions import col, concat_ws\n",
        "\n",
        "# Checks if the collection has these columns, then adds unique Id column (for patient)\n",
        "for collection in collection_string_list:\n",
        "  if 'CODPAZ' in manager.get(collection).columns and 'SEZIONE' in manager.get(collection).columns:\n",
        "    df = manager.get(collection)\n",
        "    df = df.withColumn('ID_PAZ', concat_ws(\"_\", col('SEZIONE'), col('CODPAZ')))\n",
        "\n",
        "    # List of existing columns\n",
        "    existing_columns = [c for c in df.columns if c != 'ID_PAZ']\n",
        "    new_order = ['ID_PAZ'] + existing_columns\n",
        "\n",
        "    # Set ID_PAZ as first column\n",
        "    df = df.select(new_order)\n",
        "\n",
        "    manager.set(collection, df)\n",
        "    print(collection)\n",
        "    manager.get(collection).show(5)\n"
      ],
      "metadata": {
        "colab": {
          "base_uri": "https://localhost:8080/"
        },
        "id": "2BppgB5Ctr0p",
        "outputId": "fcd09142-6545-49a1-b53f-6087b569cb99"
      },
      "execution_count": 20,
      "outputs": [
        {
          "output_type": "stream",
          "name": "stdout",
          "text": [
            "ANAGRAFICA\n",
            "+------+-------+------+-------+-------+-------------+-----+-----------------+------------------------+----------------+----------------+--------------------+------------+\n",
            "|ID_PAZ|SEZIONE|CODPAZ|COGNOME|NOMEPAZ|DATADINASCITA|SESSO|COMUNE_DI_NASCITA|CODICE_COMUNE_DI_NASCITA|  CODICE_FISCALE|GATE_DI_INGRESSO|      MOTIVO_DECESSO|DATA_DECESSO|\n",
            "+------+-------+------+-------+-------+-------------+-----+-----------------+------------------------+----------------+----------------+--------------------+------------+\n",
            "|   1_1|      1|     1|      A|      N|   1937-02-16|    F|             null|                    null|------37-56-----|         Esterno|                null|        null|\n",
            "|   1_7|      1|     7|      N|      M|   1937-01-18|    F|           ACERRA|                    A024|------37-58-024-|    Ipertensione|Causa extracardio...|  2019-07-02|\n",
            "|  1_17|      1|    17|      D|      R|   1932-10-24|    M|             null|                    null|------32-24-----|    Ipertensione|                null|        null|\n",
            "|  1_18|      1|    18|      G|      G|   1956-04-21|    M|           NAPOLI|                    F839|------56-21-839-|    Ipertensione|                null|        null|\n",
            "|  1_20|      1|    20|      P|      L|   1959-05-16|    M|          CARACAS|                    null|------59-16-----|    Ipertensione|                null|        null|\n",
            "+------+-------+------+-------+-------+-------------+-----+-----------------+------------------------+----------------+----------------+--------------------+------------+\n",
            "only showing top 5 rows\n",
            "\n",
            "ANAMNESI\n",
            "+------+-------+------+----------+---------------+-------+------------+-------------------------------+--------------------------------+------------------+--------+------------+------------+-------------+---+------+------------------------+-----------------------+---------------+-----------------------+----------------+\n",
            "|ID_PAZ|SEZIONE|CODPAZ|      DATA|NUM_PROGRESSIVO|DIABETE|DISLIPIDEMIA|DISLIPIDEMIA_IPERCOLESTEROLEMIA|DISLIPIDEMIA_IPERTRIGLICERIDEMIA|DISLIPIDEMIA_MISTA|    FUMO|PREVIOUS_IMA|PREVIOUS_PCI|PREVIOUS_CABG|CAD|STROKE|CAD_FAMILIARITY_CEREBRAL|CAD_FAMILIARITY_CARDIAC|CAD_FAMILIARITY|NUM_PROGRESSIVO_GLOBALE|GATE_DI_INGRESSO|\n",
            "+------+-------+------+----------+---------------+-------+------------+-------------------------------+--------------------------------+------------------+--------+------------+------------+-------------+---+------+------------------------+-----------------------+---------------+-----------------------+----------------+\n",
            "|   1_1|      1|     1|2012-02-27|              1|     NO|        null|                           null|                            null|              null|    null|         YES|          NO|           NO|YES|    NO|                    null|                   null|           null|                      1|         Esterno|\n",
            "|   1_7|      1|     7|1996-06-12|              1|     NO|        null|                           null|                            null|              null|    null|          NO|          NO|           NO| NO|    NO|                    null|                   null|           null|                      1|    Ipertensione|\n",
            "|  1_17|      1|    17|1996-06-12|              1|     NO|          NO|                             NO|                              NO|                NO|YES (ex)|          NO|          NO|           NO| NO|  null|                      NO|                   null|           null|                      1|    Ipertensione|\n",
            "|  1_18|      1|    18|1996-06-12|              1|     NO|          NO|                             NO|                              NO|                NO|      NO|          NO|          NO|           NO| NO|    NO|                     YES|                    YES|            YES|                      1|    Ipertensione|\n",
            "|  1_20|      1|    20|1996-06-13|              1|     NO|          NO|                             NO|                              NO|                NO|      NO|          NO|          NO|           NO| NO|  null|                      NO|                   null|           null|                      4|    Ipertensione|\n",
            "+------+-------+------+----------+---------------+-------+------------+-------------------------------+--------------------------------+------------------+--------+------------+------------+-------------+---+------+------------------------+-----------------------+---------------+-----------------------+----------------+\n",
            "only showing top 5 rows\n",
            "\n",
            "CORONAROGRAFIA_PTCA\n",
            "+------+-------+------+----------+---------------+--------------------+--------------------+--------------------+--------------------+-----------------------+----------------+\n",
            "|ID_PAZ|SEZIONE|CODPAZ|      DATA|NUM_PROGRESSIVO|          LESIONI_TC|         LESIONI_IVA|          LESIONI_CX|          LESIONI_DX|NUM_PROGRESSIVO_GLOBALE|GATE_DI_INGRESSO|\n",
            "+------+-------+------+----------+---------------+--------------------+--------------------+--------------------+--------------------+-----------------------+----------------+\n",
            "|   1_1|      1|     1|2013-11-07|              1|                null|                null|                null|                null|                      4|         Esterno|\n",
            "|  1_25|      1|    25|2003-03-11|              1|                null|                null|                null|                null|                     21|    Ipertensione|\n",
            "|  1_60|      1|    60|2011-08-07|              1|YES (ateromasia d...|YES (stenosi serr...|YES (stenosi serr...|YES (stenosi serr...|                     27|    Ipertensione|\n",
            "|  1_66|      1|    66|2015-06-22|              1|YES (ateromasia d...|YES (ateromasia d...|YES (ateromasia d...|YES (ateromasia d...|                     42|    Ipertensione|\n",
            "| 1_156|      1|   156|2004-02-27|              1|                  NO|                  NO|                  NO|                  NO|                     14|    Ipertensione|\n",
            "+------+-------+------+----------+---------------+--------------------+--------------------+--------------------+--------------------+-----------------------+----------------+\n",
            "only showing top 5 rows\n",
            "\n",
            "ECOCARDIO_DATI\n",
            "+------+-------+------+----------+---------------+----+----------------+----------------+-----+-------+-----+-----+----+-----+----+----+-----+----+----+----+----+----+-----+----+--------+--------+-------------+-----+-----+--------+------------+-----+-----+---------+---------------------+-----------------------+----------------------------+---------------+-----------------+------+-------------+----------------------------------------+----------------------------------------+----------------------------------------+-----------------------+----------------+\n",
            "|ID_PAZ|SEZIONE|CODPAZ|      DATA|NUM_PROGRESSIVO|  EF|AORTA_ASCENDENTE|AORTA_ADDOMINALE| PESO|ALTEZZA|  PAS|  PAD|  RR|AORTA|VSTD|VSTS|SIVTD|PPTD|PFVE|PFVA|  EA|  DT| LVVS|LVVD|LVVD_2CH|LVVS_2CH|E_TDI_SETTALE|E_TDI|  LAV|_2CH_LAV|JET_RIG_TRIC|TAPSE|ATRIO|BICUSPIDE|INSUFFICIENZA_AORTICA|INSUFFICIENZA_MITRALICA|INSUFFICIENZA_TRICUSPIDALICA|STENOSI_AORTICA|STENOSI_MITRALICA|TROMBO|HEART_FAILURE|AORTIC_DISEASE_ASCENDING_AORTIC_DILATION|AORTIC_DISEASE_ASCENDING_AORTIC_ANEURYSM|AORTIC_DISEASE_ABDOMINAL_AORTIC_ANEURYSM|NUM_PROGRESSIVO_GLOBALE|GATE_DI_INGRESSO|\n",
            "+------+-------+------+----------+---------------+----+----------------+----------------+-----+-------+-----+-----+----+-----+----+----+-----+----+----+----+----+----+-----+----+--------+--------+-------------+-----+-----+--------+------------+-----+-----+---------+---------------------+-----------------------+----------------------------+---------------+-----------------+------+-------------+----------------------------------------+----------------------------------------+----------------------------------------+-----------------------+----------------+\n",
            "|   1_1|      1|     1|2015-05-05|              1|null|            null|            null| null|   null| null|34.81|66.0|103.0|null|null|836.0|null|null|null|null|null| null|null|    null|    null|         null| null| null|    null|        null| 78.0| 52.0|       NO|                   NO|                     NO|                          NO|             NO|               NO|    NO|          YES|                                    null|                                    null|                                    null|                      7|         Esterno|\n",
            "|   1_1|      1|     1|2019-05-06|              2|null|            null|            null| null|   null| null| null|null| null|null|null| null|null|null|null|null|null| null|null|    null|    null|         null| null| null|    null|        null| null| null|       NO|                   NO|                     NO|                          NO|             NO|               NO|    NO|         null|                                    null|                                    null|                                    null|                     12|         Esterno|\n",
            "|   1_1|      1|     1|2019-05-24|              3| 0.8|            60.0|            48.0|195.0|   74.0|175.0|54.29|32.0| 70.0|38.0|38.0| null| 9.0|12.0|33.0|49.0|85.0|160.0|36.0|    null|    20.0|         45.0|  8.0|250.0|     5.0|        33.0| null| null|       NO|                   NO|                     NO|                          NO|             NO|               NO|    NO|           NO|                                     YES|                                      NO|                                    null|                     14|         Esterno|\n",
            "|   1_1|      1|     1|2019-07-15|              4|1.32|            57.0|            75.0|152.0|   null| null|45.92|55.0|101.0|null|null| null|null|null|null|null|null| null|null|    null|    null|         null|  8.0| null|    10.0|        null| 95.0| 51.0|       NO|                   NO|                     NO|                          NO|             NO|               NO|    NO|           NO|                                    null|                                    null|                                    null|                     15|         Esterno|\n",
            "|   1_1|      1|     1|2019-09-23|              5|null|            null|            null| null|   null| null| null|null| null|null|null| null|null|null|null|null|null| null|null|    null|    null|         null| null| null|    null|        null| null| null|       NO|                   NO|                     NO|                          NO|             NO|               NO|    NO|         null|                                    null|                                    null|                                    null|                     16|         Esterno|\n",
            "+------+-------+------+----------+---------------+----+----------------+----------------+-----+-------+-----+-----+----+-----+----+----+-----+----+----+----+----+----+-----+----+--------+--------+-------------+-----+-----+--------+------------+-----+-----+---------+---------------------+-----------------------+----------------------------+---------------+-----------------+------+-------------+----------------------------------------+----------------------------------------+----------------------------------------+-----------------------+----------------+\n",
            "only showing top 5 rows\n",
            "\n",
            "ECOCAROTIDI\n",
            "+------+-------+------+----------+---------------+-----------------+------+--------------+--------------+-------------+-------------+-------------+-------------+------------+------------+--------------+--------------+-------------+-------------+-----------------+-------------------+----------------------+--------------------+-----------------------+----------------+\n",
            "|ID_PAZ|SEZIONE|CODPAZ|      DATA|NUM_PROGRESSIVO|C_COMUNE_DIAMETRO|IMTMAX|MAXIMTNEARCIDX|MAXIMTNEARCISX|MAXIMTFARCIDX|MAXIMTFARCISX|MAXIMTNEARBDX|MAXIMTNEARBSX|MAXIMTFARBDX|MAXIMTFARBSX|MAXIMTNEARCCDX|MAXIMTNEARCCSX|MAXIMTFARCCDX|MAXIMTFARCCSX|ESAME_NELLA_NORMA|ATEROSCLEROSI_LIEVE|ATEROSCLEROSI_MODERATA|ATEROSCLEROSI_SEVERA|NUM_PROGRESSIVO_GLOBALE|GATE_DI_INGRESSO|\n",
            "+------+-------+------+----------+---------------+-----------------+------+--------------+--------------+-------------+-------------+-------------+-------------+------------+------------+--------------+--------------+-------------+-------------+-----------------+-------------------+----------------------+--------------------+-----------------------+----------------+\n",
            "|   1_1|      1|     1|2013-11-14|              1|             null|  null|          null|          null|         null|         null|         null|         null|        null|        null|          null|          null|         null|         null|               NO|                 NO|                    NO|                  NO|                      5|         Esterno|\n",
            "|   1_1|      1|     1|2019-05-13|              2|             null|   2.0|          null|          null|         null|         null|         null|          1.5|        null|         1.5|          null|           2.0|         null|          2.0|               NO|                 NO|                    NO|                  NO|                     13|         Esterno|\n",
            "|   1_1|      1|     1|2020-07-15|              3|             null|  null|          null|          null|         null|         null|         null|         null|        null|        null|          null|          null|         null|         null|               NO|                 NO|                    NO|                  NO|                     24|         Esterno|\n",
            "|   1_1|      1|     1|2021-04-01|              4|             null|  null|          null|          null|         null|         null|         null|         null|        null|        null|          null|          null|         null|         null|               NO|                 NO|                   YES|                  NO|                     32|         Esterno|\n",
            "|   1_7|      1|     7|1996-06-12|              1|             null|   0.9|          null|          null|         null|         null|         null|         null|         0.9|         0.9|          null|          null|          0.9|          0.9|              YES|                 NO|                    NO|                null|                      3|    Ipertensione|\n",
            "+------+-------+------+----------+---------------+-----------------+------+--------------+--------------+-------------+-------------+-------------+-------------+------------+------------+--------------+--------------+-------------+-------------+-----------------+-------------------+----------------------+--------------------+-----------------------+----------------+\n",
            "only showing top 5 rows\n",
            "\n",
            "ESAMI_LABORATORIO\n",
            "+------+-------+------+----------+---------------+--------+-------------+----------+--------+--------+-----------+--------+------------+-----------+----+----+----------+------------+-------------+--------------+---------------+--------+----+----+-------+------------------+----+----------+-----------------------+----------------+\n",
            "|ID_PAZ|SEZIONE|CODPAZ|      DATA|NUM_PROGRESSIVO|GLICEMIA|CREATININEMIA|EMOGLOBINA|URICEMIA|SODIEMIA|POTASSIEMIA|CALCEMIA|TRIGLICERIDI|COLESTEROLO| HDL| PCR|HBA1C_PERC|MALBUMINURIA|PROTEINURIA24|OMOCISTEINEMIA|PROTEINE_TOTALI|ALBUMINE| GOT| GPT|DIABETE|      FILTRATO_GFR| CKD|CKD_STADIO|NUM_PROGRESSIVO_GLOBALE|GATE_DI_INGRESSO|\n",
            "+------+-------+------+----------+---------------+--------+-------------+----------+--------+--------+-----------+--------+------------+-----------+----+----+----------+------------+-------------+--------------+---------------+--------+----+----+-------+------------------+----+----------+-----------------------+----------------+\n",
            "|   1_1|      1|     1|2013-09-11|              1|    46.0|         null|      null|     1.2|    null|       null|    null|        null|       68.0|null|null|      null|       199.0|         null|          null|           null|    null|null|null|   null|43.863489680842356| YES|        3b|                      3|         Esterno|\n",
            "|   1_1|      1|     1|2016-02-11|              2|    54.0|          3.8|      75.0|    0.91|    null|       null|    null|        null|       79.0|null|null|      11.5|       226.0|         null|          null|           null|    null|null|null|     NO| 60.00673660953481|  NO|         2|                      8|         Esterno|\n",
            "|   1_1|      1|     1|2022-12-07|              3|    72.2|          4.5|      87.4|    0.65|     4.5|       null|    null|       145.0|       88.1| 9.3|18.5|      13.2|       180.0|         54.4|           7.2|           null|    null|null|null|     NO| 80.95464517212886|  NO|         2|                     41|         Esterno|\n",
            "|   1_7|      1|     7|1999-12-17|              1|    52.0|          5.0|     122.0|    1.09|     4.0|       10.0|    null|       144.0|      123.0|10.0|18.0|      13.0|       203.0|         62.0|           8.0|           null|    null|null|null|     NO| 54.36197064847209| YES|        3a|                      9|    Ipertensione|\n",
            "|   1_7|      1|     7|2002-02-15|              2|    66.0|         null|     113.0|    null|    null|       null|    null|        null|      144.0|null|null|      13.0|       208.0|         61.0|           8.4|           null|    null|null|null|     NO|              null|null|      null|                     18|    Ipertensione|\n",
            "+------+-------+------+----------+---------------+--------+-------------+----------+--------+--------+-----------+--------+------------+-----------+----+----+----------+------------+-------------+--------------+---------------+--------+----+----+-------+------------------+----+----------+-----------------------+----------------+\n",
            "only showing top 5 rows\n",
            "\n",
            "ESAMI_SPECIALISTICI\n",
            "+------+-------+------+----------+---------------+-----+----+----+-----------------------+----------------+\n",
            "|ID_PAZ|SEZIONE|CODPAZ|      DATA|NUM_PROGRESSIVO|  FT3| FT4| TSH|NUM_PROGRESSIVO_GLOBALE|GATE_DI_INGRESSO|\n",
            "+------+-------+------+----------+---------------+-----+----+----+-----------------------+----------------+\n",
            "|   1_1|      1|     1|2012-12-17|              1| null|null|null|                      2|         Esterno|\n",
            "|   1_7|      1|     7|2003-01-23|              1|12.25|1.13|4.49|                     25|    Ipertensione|\n",
            "|   1_7|      1|     7|2006-06-07|              2| 1.23|0.61|2.16|                     46|    Ipertensione|\n",
            "|   1_7|      1|     7|2009-03-12|              3| 0.97|0.76|2.31|                     75|    Ipertensione|\n",
            "|  1_20|      1|    20|1996-07-08|              1| null|null|null|                      6|    Ipertensione|\n",
            "+------+-------+------+----------+---------------+-----+----+----+-----------------------+----------------+\n",
            "only showing top 5 rows\n",
            "\n",
            "ESAMI_STRUMENTALI_CARDIO\n",
            "+------+-------+------+----------+---------------+-----------+-----------------------+----------------+\n",
            "|ID_PAZ|SEZIONE|CODPAZ|      DATA|NUM_PROGRESSIVO|CONCLUSIONI|NUM_PROGRESSIVO_GLOBALE|GATE_DI_INGRESSO|\n",
            "+------+-------+------+----------+---------------+-----------+-----------------------+----------------+\n",
            "|  1_25|      1|    25|2005-11-22|              1|    UNKNOWN|                     53|    Ipertensione|\n",
            "|  1_59|      1|    59|2014-11-05|              1|     NORMAL|                     54|    Ipertensione|\n",
            "|  1_62|      1|    62|2005-12-19|              1|    UNKNOWN|                     18|    Ipertensione|\n",
            "|  1_62|      1|    62|2006-09-13|              2|    UNKNOWN|                     22|    Ipertensione|\n",
            "| 1_108|      1|   108|2005-01-26|              1|    UNKNOWN|                     49|    Ipertensione|\n",
            "+------+-------+------+----------+---------------+-----------+-----------------------+----------------+\n",
            "only showing top 5 rows\n",
            "\n",
            "LISTA_EVENTI\n",
            "+------+-------+------+----------+---------------+-------------------+-----------------------+\n",
            "|ID_PAZ|SEZIONE|CODPAZ|      DATA|NUM_PROGRESSIVO|        TIPO_EVENTO|NUM_PROGRESSIVO_GLOBALE|\n",
            "+------+-------+------+----------+---------------+-------------------+-----------------------+\n",
            "|   1_1|      1|     1|2012-02-27|              1|           ANAMNESI|                      1|\n",
            "|   1_1|      1|     1|2012-12-17|              2|ESAMI_SPECIALISTICI|                      2|\n",
            "|   1_1|      1|     1|2013-09-11|              3|  ESAMI_LABORATORIO|                      3|\n",
            "|   1_1|      1|     1|2013-11-07|              4|CORONAROGRAFIA_PTCA|                      4|\n",
            "|   1_1|      1|     1|2013-11-14|              5|        ECOCAROTIDI|                      5|\n",
            "+------+-------+------+----------+---------------+-------------------+-----------------------+\n",
            "only showing top 5 rows\n",
            "\n",
            "PREVALENT\n",
            "+------+-------+------+----------+-------+------------------------+-------------------+------------+--------------------+--------------------+-----+-------+------------+----+-------------------+----+-------+------------+------------+-----------+-----------+---------+----------+----------+--------+---------+---------+-------+----+---------+-------------+-------------+------------+--------------+----------------+------------+--------------+--------------+------------+-----------------------+----------------------+--------------------+----+----------------+----------------+\n",
            "|ID_PAZ|SEZIONE|CODPAZ|      DATA|DIABETE|DIABETE_INSULINE_TREATED|DIABETE_ORAL_TERAPY|DISLIPIDEMIA|DISLIPIDEMIA_STATINE|DISLIPIDEMIA_FIBRATI|  BMI|OBESITA|PREVIOUS_IMA| CAD|ATRIAL_FIBRILLATION|PESO|ALTEZZA|PASDOMICILIO|PADDOMICILIO|PACLINOMINM|PACLINOMAXM|FREQCLINO|PAORTOMINM|PAORTOMAXM|FREQORTO|PASITMINM|PASITMAXM|FREQSIT|FUMO|DIURETICI|ALFABLOCCANTI|BETABLOCCANTI|ACEINIBITORI|AT1ANTAGONISTI|DIIDROPIRIDINICI|ANTIARITMICI|ANTIAGGREGANTI|ANTICOAGULANTI|SEGUETERAPIA|TIPO_DI_RICOVERO_CARDIO|TIPO_DI_RICOVERO_EXTRA|CAUSA_RICOVERO_EXTRA|NYHA|STADIO_SCOMPENSO|GATE_DI_INGRESSO|\n",
            "+------+-------+------+----------+-------+------------------------+-------------------+------------+--------------------+--------------------+-----+-------+------------+----+-------------------+----+-------+------------+------------+-----------+-----------+---------+----------+----------+--------+---------+---------+-------+----+---------+-------------+-------------+------------+--------------+----------------+------------+--------------+--------------+------------+-----------------------+----------------------+--------------------+----+----------------+----------------+\n",
            "|   1_1|      1|     1|2019-03-29|     NO|                      NO|                 NO|          NO|                  NO|                  NO| null|   null|        null|null|               null|null|   null|        null|        null|       null|       null|     null|      null|      null|    null|     null|     null|   null|null|       NO|           NO|           NO|          NO|            NO|              NO|          NO|            NO|            NO|        null|                   null|                  null|                null|null|            null|         Esterno|\n",
            "|   1_7|      1|     7|1999-12-17|   null|                    null|               null|        null|                null|                null| 28.6|     NO|        null|null|               null|76.0|  163.0|       130.0|        70.0|       71.0|      149.0|     56.0|      70.0|     140.0|    64.0|     null|     null|   null|null|       NO|           NO|          YES|          NO|            NO|              NO|        null|          null|          null|          NO|                   null|                  null|                null|null|            null|    Ipertensione|\n",
            "|  1_17|      1|    17|1996-06-12|     NO|                      NO|                 NO|          NO|                  NO|                  NO|28.69|     NO|        null|null|               null|80.0|  167.0|        null|        null|       85.0|      150.0|     80.0|      90.0|     160.0|    80.0|     null|     null|   null|null|       NO|           NO|           NO|          NO|            NO|              NO|          NO|            NO|            NO|          NO|                   null|                  null|                null|null|            null|    Ipertensione|\n",
            "|  1_18|      1|    18|1996-10-28|     NO|                      NO|                 NO|          NO|                  NO|                  NO|26.12|     NO|        null|null|               null|80.0|  175.0|       125.0|        80.0|      100.0|      150.0|     84.0|      90.0|     130.0|    92.0|     null|     null|   null|null|       NO|           NO|           NO|          NO|            NO|              NO|          NO|            NO|            NO|          NO|                   null|                  null|                null|null|            null|    Ipertensione|\n",
            "|  1_20|      1|    20|1996-06-12|     NO|                      NO|                 NO|          NO|                  NO|                  NO|27.55|     NO|        null|null|               null|75.0|  165.0|       150.0|        90.0|       90.0|      150.0|     76.0|      95.0|     150.0|    80.0|     null|     null|   null|null|       NO|           NO|          YES|          NO|            NO|              NO|          NO|            NO|            NO|         YES|                   null|                  null|                null|null|            null|    Ipertensione|\n",
            "+------+-------+------+----------+-------+------------------------+-------------------+------------+--------------------+--------------------+-----+-------+------------+----+-------------------+----+-------+------------+------------+-----------+-----------+---------+----------+----------+--------+---------+---------+-------+----+---------+-------------+-------------+------------+--------------+----------------+------------+--------------+--------------+------------+-----------------------+----------------------+--------------------+----+----------------+----------------+\n",
            "only showing top 5 rows\n",
            "\n",
            "RICOVERO_OSPEDALIERO\n",
            "+------+-------+------+----------+---------------+--------------------+-----------------+--------------------+-----------------------+----------------+\n",
            "|ID_PAZ|SEZIONE|CODPAZ|      DATA|NUM_PROGRESSIVO|  RICHIESTA_RICOVERO|          SINTOMI|          SINTOMI_PS|NUM_PROGRESSIVO_GLOBALE|GATE_DI_INGRESSO|\n",
            "+------+-------+------+----------+---------------+--------------------+-----------------+--------------------+-----------------------+----------------+\n",
            "|   1_1|      1|     1|2013-12-09|              1|                null|             null|                null|                      6|         Esterno|\n",
            "|   1_1|      1|     1|2018-07-26|              2|                null|             null|                null|                      9|         Esterno|\n",
            "|  1_78|      1|    78|2007-09-03|              1|Instabilità elett...|Bradicardia - BAV|                null|                     12|    Ipertensione|\n",
            "|  1_78|      1|    78|2009-10-21|              2|      Asintomatico/a|             null|                null|                     15|    Ipertensione|\n",
            "| 1_378|      1|   378|2017-02-10|              1|Sintomatico/a per...|             null|Sintomatico/a per...|                     94|    Ipertensione|\n",
            "+------+-------+------+----------+---------------+--------------------+-----------------+--------------------+-----------------------+----------------+\n",
            "only showing top 5 rows\n",
            "\n",
            "VISITA_CONTROLLO_ECG\n",
            "+------+-------+------+----------+---------------+-------+------------------------+-------------------+------------+--------------------+--------------------+----+-------+------------+----+-------------------+----+-------+------------+------------+-----------+-----------+---------+----------+----------+--------+---------+---------+-------+----+---------+-------------+-------------+------------+--------------+----------------+------------+--------------+--------------+------------+-----------------------+----------------------+--------------------+----+----------------+-----------------------+----------------+\n",
            "|ID_PAZ|SEZIONE|CODPAZ|      DATA|NUM_PROGRESSIVO|DIABETE|DIABETE_INSULINE_TREATED|DIABETE_ORAL_TERAPY|DISLIPIDEMIA|DISLIPIDEMIA_STATINE|DISLIPIDEMIA_FIBRATI| BMI|OBESITA|PREVIOUS_IMA| CAD|ATRIAL_FIBRILLATION|PESO|ALTEZZA|PASDOMICILIO|PADDOMICILIO|PACLINOMINM|PACLINOMAXM|FREQCLINO|PAORTOMINM|PAORTOMAXM|FREQORTO|PASITMINM|PASITMAXM|FREQSIT|FUMO|DIURETICI|ALFABLOCCANTI|BETABLOCCANTI|ACEINIBITORI|AT1ANTAGONISTI|DIIDROPIRIDINICI|ANTIARITMICI|ANTIAGGREGANTI|ANTICOAGULANTI|SEGUETERAPIA|TIPO_DI_RICOVERO_CARDIO|TIPO_DI_RICOVERO_EXTRA|CAUSA_RICOVERO_EXTRA|NYHA|STADIO_SCOMPENSO|NUM_PROGRESSIVO_GLOBALE|GATE_DI_INGRESSO|\n",
            "+------+-------+------+----------+---------------+-------+------------------------+-------------------+------------+--------------------+--------------------+----+-------+------------+----+-------------------+----+-------+------------+------------+-----------+-----------+---------+----------+----------+--------+---------+---------+-------+----+---------+-------------+-------------+------------+--------------+----------------+------------+--------------+--------------+------------+-----------------------+----------------------+--------------------+----+----------------+-----------------------+----------------+\n",
            "|   1_1|      1|     1|2019-03-29|              1|     NO|                      NO|                 NO|          NO|                  NO|                  NO|null|   null|        null|null|               null|null|   null|        null|        null|       null|       null|     null|      null|      null|    null|     null|     null|   null|null|       NO|           NO|           NO|          NO|            NO|              NO|          NO|            NO|            NO|        null|                   null|                  null|                null|null|            null|                     10|         Esterno|\n",
            "|   1_1|      1|     1|2019-05-03|              2|     NO|                      NO|                 NO|          NO|                  NO|                  NO|null|   null|        null|null|               null|null|   null|        null|        null|       null|       null|     null|      null|      null|    null|     null|     null|   null|null|       NO|           NO|           NO|          NO|            NO|              NO|          NO|            NO|            NO|        null|                   null|                  null|                null|null|            null|                     11|         Esterno|\n",
            "|   1_1|      1|     1|2019-11-25|              3|     NO|                      NO|                 NO|          NO|                  NO|                  NO|null|   null|        null|null|               null|null|  165.0|        null|        null|       null|       null|     null|      null|      null|    null|     null|     null|   null|null|       NO|           NO|           NO|          NO|            NO|              NO|          NO|            NO|            NO|        null|                   null|                  null|                null|null|            null|                     17|         Esterno|\n",
            "|   1_1|      1|     1|2020-07-13|              4|     NO|                      NO|                 NO|          NO|                  NO|                  NO|null|   null|        null|null|               null|null|  165.0|        null|        null|       null|       null|     null|      null|      null|    null|     null|     null|   null|null|       NO|           NO|           NO|          NO|            NO|              NO|          NO|            NO|            NO|        null|                   null|                  null|                null|null|            null|                     19|         Esterno|\n",
            "|   1_1|      1|     1|2020-07-13|              5|     NO|                      NO|                 NO|          NO|                  NO|                  NO|null|   null|        null|null|               null|null|  165.0|        null|        null|       null|       null|     null|      null|      null|    null|     null|     null|   null|null|       NO|           NO|           NO|          NO|            NO|              NO|          NO|            NO|            NO|        null|                   null|                  null|                null|null|            null|                     20|         Esterno|\n",
            "+------+-------+------+----------+---------------+-------+------------------------+-------------------+------------+--------------------+--------------------+----+-------+------------+----+-------------------+----+-------+------------+------------+-----------+-----------+---------+----------+----------+--------+---------+---------+-------+----+---------+-------------+-------------+------------+--------------+----------------+------------+--------------+--------------+------------+-----------------------+----------------------+--------------------+----+----------------+-----------------------+----------------+\n",
            "only showing top 5 rows\n",
            "\n"
          ]
        }
      ]
    },
    {
      "cell_type": "markdown",
      "source": [
        "### Drop Collection 🚩***Run it only if you want to eliminate some collection from mongo atlas***"
      ],
      "metadata": {
        "id": "OPNBx4i9FwcV"
      }
    },
    {
      "cell_type": "code",
      "source": [
        "manager.drop_collections(\"CAMPANIA_SALUTE\", [\"PREVALENT\"])"
      ],
      "metadata": {
        "id": "Si_hdxX_F2HB",
        "colab": {
          "base_uri": "https://localhost:8080/"
        },
        "outputId": "16a0cb64-745f-475b-c6ab-fdaa78f90661"
      },
      "execution_count": null,
      "outputs": [
        {
          "output_type": "stream",
          "name": "stdout",
          "text": [
            "Collection 'PREVALENT' dropped successfully.\n"
          ]
        }
      ]
    },
    {
      "cell_type": "markdown",
      "source": [
        "## Data Loading in Mongo DB"
      ],
      "metadata": {
        "id": "QBml5lFKlcRg"
      }
    },
    {
      "cell_type": "markdown",
      "source": [
        "We'll now load our processed datasets into MongoDB Atlas using PySpark's native connector. This efficient approach enables seamless integration between Spark DataFrames and MongoDB collections. The following configuration ensures optimal performance and reliability."
      ],
      "metadata": {
        "id": "MinY9EEhWUtj"
      }
    },
    {
      "cell_type": "code",
      "source": [
        "manager.save_to_mongo('ANAGRAFICA','CAMPANIA_SALUTE', mode=\"overwrite\")\n",
        "#manager.save_to_mongo('LISTA_EVENTI', 'CAMPANIA_SALUTE', mode=\"overwrite\")\n",
        "#manager.save_to_mongo('ANAMNESI', 'CAMPANIA_SALUTE', mode = \"overwrite\")"
      ],
      "metadata": {
        "id": "mFAmx4v1F74a"
      },
      "execution_count": 21,
      "outputs": []
    },
    {
      "cell_type": "code",
      "source": [
        "for name in collection_string_list:\n",
        "  manager.save_to_mongo(name, \"CAMPANIA_SALUTE\", mode=\"overwrite\")"
      ],
      "metadata": {
        "id": "J_quaNgmm9vI",
        "collapsed": true
      },
      "execution_count": null,
      "outputs": []
    }
  ]
}